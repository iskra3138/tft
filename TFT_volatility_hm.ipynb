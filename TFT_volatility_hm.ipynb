{
  "nbformat": 4,
  "nbformat_minor": 0,
  "metadata": {
    "colab": {
      "name": "TFT_volatility",
      "provenance": [],
      "collapsed_sections": [],
	  "include_colab_link": true,
      "machine_shape": "hm"
    },
    "kernelspec": {
      "name": "python3",
      "display_name": "Python 3"
    },
    "accelerator": "GPU"
  },
  "cells": [
    {
      "cell_type": "markdown",
      "metadata": {
        "id": "alNUrjp9_oQr",
        "colab_type": "text"
      },
      "source": [
        "Ref.\n",
        "- https://github.com/google-research/google-research/blob/master/tft/script_train_fixed_params.py\n",
        "- https://aihub.cloud.google.com/u/0/p/products%2F9f39ad8d-ad81-4fd9-8238-5186d36db2ec"
      ]
    },
    {
      "cell_type": "code",
      "metadata": {
        "id": "Hl5UrzdzYULE",
        "colab_type": "code",
        "outputId": "87970bf3-7972-4b8d-fcc6-9a07df1b8278",
        "colab": {
          "base_uri": "https://localhost:8080/",
          "height": 323
        }
      },
      "source": [
        "!nvidia-smi"
      ],
      "execution_count": 1,
      "outputs": [
        {
          "output_type": "stream",
          "text": [
            "Thu Jun  4 05:02:32 2020       \n",
            "+-----------------------------------------------------------------------------+\n",
            "| NVIDIA-SMI 440.82       Driver Version: 418.67       CUDA Version: 10.1     |\n",
            "|-------------------------------+----------------------+----------------------+\n",
            "| GPU  Name        Persistence-M| Bus-Id        Disp.A | Volatile Uncorr. ECC |\n",
            "| Fan  Temp  Perf  Pwr:Usage/Cap|         Memory-Usage | GPU-Util  Compute M. |\n",
            "|===============================+======================+======================|\n",
            "|   0  Tesla K80           Off  | 00000000:00:04.0 Off |                    0 |\n",
            "| N/A   73C    P8    33W / 149W |      0MiB / 11441MiB |      0%      Default |\n",
            "+-------------------------------+----------------------+----------------------+\n",
            "                                                                               \n",
            "+-----------------------------------------------------------------------------+\n",
            "| Processes:                                                       GPU Memory |\n",
            "|  GPU       PID   Type   Process name                             Usage      |\n",
            "|=============================================================================|\n",
            "|  No running processes found                                                 |\n",
            "+-----------------------------------------------------------------------------+\n"
          ],
          "name": "stdout"
        }
      ]
    },
    {
      "cell_type": "code",
      "metadata": {
        "id": "T0H5nv-wbdiT",
        "colab_type": "code",
        "outputId": "84321124-31b4-43a1-9e8f-296c6a6664fb",
        "colab": {
          "base_uri": "https://localhost:8080/",
          "height": 450
        }
      },
      "source": [
        "# install packages to download data and restart runtime\n",
        "!pip install pyunpack\n",
        "!pip install wget"
      ],
      "execution_count": 2,
      "outputs": [
        {
          "output_type": "stream",
          "text": [
            "Collecting pyunpack\n",
            "  Downloading https://files.pythonhosted.org/packages/33/fd/4b64817a1d82df78553ceb1bfc5a2d7ac162da8667be586430fab9db5deb/pyunpack-0.2.1-py2.py3-none-any.whl\n",
            "Collecting entrypoint2\n",
            "  Downloading https://files.pythonhosted.org/packages/46/0a/6156f1bc14a44094cff75bb6ecefe1f8e8a12cfff66379ba3d52d0916c49/entrypoint2-0.2.1-py2.py3-none-any.whl\n",
            "Collecting easyprocess\n",
            "  Downloading https://files.pythonhosted.org/packages/48/3c/75573613641c90c6d094059ac28adb748560d99bd27ee6f80cce398f404e/EasyProcess-0.3-py2.py3-none-any.whl\n",
            "Collecting argparse\n",
            "  Downloading https://files.pythonhosted.org/packages/f2/94/3af39d34be01a24a6e65433d19e107099374224905f1e0cc6bbe1fd22a2f/argparse-1.4.0-py2.py3-none-any.whl\n",
            "Installing collected packages: argparse, entrypoint2, easyprocess, pyunpack\n",
            "Successfully installed argparse-1.4.0 easyprocess-0.3 entrypoint2-0.2.1 pyunpack-0.2.1\n"
          ],
          "name": "stdout"
        },
        {
          "output_type": "display_data",
          "data": {
            "application/vnd.colab-display-data+json": {
              "pip_warning": {
                "packages": [
                  "argparse"
                ]
              }
            }
          },
          "metadata": {
            "tags": []
          }
        },
        {
          "output_type": "stream",
          "text": [
            "Collecting wget\n",
            "  Downloading https://files.pythonhosted.org/packages/47/6a/62e288da7bcda82b935ff0c6cfe542970f04e29c756b0e147251b2fb251f/wget-3.2.zip\n",
            "Building wheels for collected packages: wget\n",
            "  Building wheel for wget (setup.py) ... \u001b[?25l\u001b[?25hdone\n",
            "  Created wheel for wget: filename=wget-3.2-cp36-none-any.whl size=9682 sha256=30437bd097ba19712bc05de6374b3bf1c0c11c5b3c7ec3aaf8d7257c57fff8c7\n",
            "  Stored in directory: /root/.cache/pip/wheels/40/15/30/7d8f7cea2902b4db79e3fea550d7d7b85ecb27ef992b618f3f\n",
            "Successfully built wget\n",
            "Installing collected packages: wget\n",
            "Successfully installed wget-3.2\n"
          ],
          "name": "stdout"
        }
      ]
    },
    {
      "cell_type": "markdown",
      "metadata": {
        "id": "Kp2Bc9Vzp9qm",
        "colab_type": "text"
      },
      "source": [
        "if the code is in goole drive, the following cell doesn't need to run."
      ]
    },
    {
      "cell_type": "code",
      "metadata": {
        "id": "98IFojfBaDYV",
        "colab_type": "code",
        "colab": {}
      },
      "source": [
        "# install to download only tft directory \n",
        "#!pip install git+git://github.com/HR/github-clone#egg=ghclone\n",
        "#!ghclone https://github.com/google-research/google-research/tree/master/tft"
      ],
      "execution_count": 0,
      "outputs": []
    },
    {
      "cell_type": "code",
      "metadata": {
        "id": "1cJGTf7Ye1Kr",
        "colab_type": "code",
        "colab": {}
      },
      "source": [
        "from google.colab import drive"
      ],
      "execution_count": 0,
      "outputs": []
    },
    {
      "cell_type": "code",
      "metadata": {
        "id": "yg9sns1xe4KR",
        "colab_type": "code",
        "outputId": "ea7b9c85-6a20-49ed-c7e8-131336d0449e",
        "colab": {
          "base_uri": "https://localhost:8080/",
          "height": 127
        }
      },
      "source": [
        "drive.mount('/Gdrive')"
      ],
      "execution_count": 2,
      "outputs": [
        {
          "output_type": "stream",
          "text": [
            "Go to this URL in a browser: https://accounts.google.com/o/oauth2/auth?client_id=947318989803-6bn6qk8qdgf4n4g3pfee6491hc0brc4i.apps.googleusercontent.com&redirect_uri=urn%3aietf%3awg%3aoauth%3a2.0%3aoob&response_type=code&scope=email%20https%3a%2f%2fwww.googleapis.com%2fauth%2fdocs.test%20https%3a%2f%2fwww.googleapis.com%2fauth%2fdrive%20https%3a%2f%2fwww.googleapis.com%2fauth%2fdrive.photos.readonly%20https%3a%2f%2fwww.googleapis.com%2fauth%2fpeopleapi.readonly\n",
            "\n",
            "Enter your authorization code:\n",
            "··········\n",
            "Mounted at /Gdrive\n"
          ],
          "name": "stdout"
        }
      ]
    },
    {
      "cell_type": "code",
      "metadata": {
        "id": "eoRHuON8fDvO",
        "colab_type": "code",
        "outputId": "2bbc6c93-2184-499a-c739-94f4e9bd559d",
        "colab": {
          "base_uri": "https://localhost:8080/",
          "height": 35
        }
      },
      "source": [
        "cd '/Gdrive/My Drive/TFT'"
      ],
      "execution_count": 3,
      "outputs": [
        {
          "output_type": "stream",
          "text": [
            "/Gdrive/My Drive/TFT\n"
          ],
          "name": "stdout"
        }
      ]
    },
    {
      "cell_type": "code",
      "metadata": {
        "id": "LBWNXwCra17l",
        "colab_type": "code",
        "colab": {}
      },
      "source": [
        "#!ghclone https://github.com/google-research/google-research/tree/master/tft"
      ],
      "execution_count": 0,
      "outputs": []
    },
    {
      "cell_type": "code",
      "metadata": {
        "id": "Fsv0JsDXdhZD",
        "colab_type": "code",
        "outputId": "eea8499e-b6d0-4915-c9ba-a7e4c01a7d55",
        "colab": {
          "base_uri": "https://localhost:8080/",
          "height": 35
        }
      },
      "source": [
        "%tensorflow_version 1.x"
      ],
      "execution_count": 5,
      "outputs": [
        {
          "output_type": "stream",
          "text": [
            "TensorFlow 1.x selected.\n"
          ],
          "name": "stdout"
        }
      ]
    },
    {
      "cell_type": "code",
      "metadata": {
        "id": "qVjQoBZrbBig",
        "colab_type": "code",
        "outputId": "6116cd81-09bc-4350-c708-98117e43c89a",
        "colab": {
          "base_uri": "https://localhost:8080/",
          "height": 35
        }
      },
      "source": [
        "cd tft"
      ],
      "execution_count": 6,
      "outputs": [
        {
          "output_type": "stream",
          "text": [
            "/Gdrive/My Drive/TFT/tft\n"
          ],
          "name": "stdout"
        }
      ]
    },
    {
      "cell_type": "code",
      "metadata": {
        "id": "FU8gftpOcRbk",
        "colab_type": "code",
        "colab": {}
      },
      "source": [
        "# where $EXPT can be any of {volatility, electricity, traffic, favorita}, \n",
        "# and $OUTPUT_FOLDER denotes the root folder in which experiment outputs are saved.\n",
        "EXPT='volatility'\n",
        "OUTPUT_FOLDER='volatility_test'"
      ],
      "execution_count": 0,
      "outputs": []
    },
    {
      "cell_type": "code",
      "metadata": {
        "id": "iJaqRgtEbJR-",
        "colab_type": "code",
        "outputId": "d768dd07-2318-4de3-83b7-097da8a7a823",
        "colab": {
          "base_uri": "https://localhost:8080/",
          "height": 251
        }
      },
      "source": [
        "# download $EXPT data\n",
        "!python3 -m script_download_data $EXPT $OUTPUT_FOLDER"
      ],
      "execution_count": 8,
      "outputs": [
        {
          "output_type": "stream",
          "text": [
            "#### Running download script ###\n",
            "Resetting data folder...\n",
            "Getting volatility data...\n",
            "Pulling data from https://realized.oxford-man.ox.ac.uk/images/oxfordmanrealizedvolatilityindices.zip to volatility_test/data/volatility/oxfordmanrealizedvolatilityindices.zip\n",
            "done\n",
            "Unzipping file: volatility_test/data/volatility/oxfordmanrealizedvolatilityindices.zip\n",
            "Done.\n",
            "Unzip complete. Adding extra inputs\n",
            "/Gdrive/My Drive/TFT/tft/script_download_data.py:121: FutureWarning: The pandas.datetime class is deprecated and will be removed from pandas in a future version. Import from datetime instead.\n",
            "  df['days_from_start'] = (dates - pd.datetime(2000, 1, 3)).days\n",
            "Completed formatting, saving to volatility_test/data/volatility/formatted_omi_vol.csv\n",
            "Done.\n",
            "Download completed.\n"
          ],
          "name": "stdout"
        }
      ]
    },
    {
      "cell_type": "code",
      "metadata": {
        "id": "YnWfzi9ZxsT2",
        "colab_type": "code",
        "colab": {}
      },
      "source": [
        "import argparse\n",
        "import datetime as dte\n",
        "import os\n",
        "\n",
        "import data_formatters.base\n",
        "import expt_settings.configs\n",
        "import libs.hyperparam_opt\n",
        "import libs.tft_model\n",
        "import libs.utils as utils\n",
        "import numpy as np\n",
        "import pandas as pd\n",
        "import tensorflow.compat.v1 as tf"
      ],
      "execution_count": 0,
      "outputs": []
    },
    {
      "cell_type": "code",
      "metadata": {
        "id": "W1IVWsZ9DP9x",
        "colab_type": "code",
        "colab": {}
      },
      "source": [
        "ExperimentConfig = expt_settings.configs.ExperimentConfig\n",
        "HyperparamOptManager = libs.hyperparam_opt.HyperparamOptManager\n",
        "ModelClass = libs.tft_model.TemporalFusionTransformer"
      ],
      "execution_count": 0,
      "outputs": []
    },
    {
      "cell_type": "code",
      "metadata": {
        "id": "Vj5648AdC6a_",
        "colab_type": "code",
        "colab": {
          "base_uri": "https://localhost:8080/",
          "height": 35
        },
        "outputId": "3743bb05-4f2e-4639-d6a3-97ba78aefbf5"
      },
      "source": [
        "# args for electricity testing from gpu\n",
        "name, output_folder, use_tensorflow_with_gpu = EXPT, OUTPUT_FOLDER, True\n",
        "\n",
        "print(\"Using output folder {}\".format(output_folder))\n",
        "\n",
        "config = ExperimentConfig(name, output_folder)\n",
        "formatter = config.make_data_formatter()"
      ],
      "execution_count": 11,
      "outputs": [
        {
          "output_type": "stream",
          "text": [
            "Using output folder volatility_test\n"
          ],
          "name": "stdout"
        }
      ]
    },
    {
      "cell_type": "code",
      "metadata": {
        "id": "h9AOxFplDMvq",
        "colab_type": "code",
        "colab": {}
      },
      "source": [
        "expt_name=name\n",
        "use_gpu=use_tensorflow_with_gpu\n",
        "model_folder=os.path.join(config.model_folder, \"fixed\")\n",
        "data_csv_path=config.data_csv_path\n",
        "data_formatter=formatter\n",
        "#use_testing_mode=False"
      ],
      "execution_count": 0,
      "outputs": []
    },
    {
      "cell_type": "code",
      "metadata": {
        "id": "q-kRrsjNDTcV",
        "colab_type": "code",
        "colab": {}
      },
      "source": [
        "#num_repeats = 1\n",
        "\n",
        "if not isinstance(data_formatter, data_formatters.base.GenericDataFormatter):\n",
        "  raise ValueError(\n",
        "      \"Data formatters should inherit from\" +\n",
        "      \"AbstractDataFormatter! Type={}\".format(type(data_formatter)))"
      ],
      "execution_count": 0,
      "outputs": []
    },
    {
      "cell_type": "code",
      "metadata": {
        "id": "Y9VZp6v3DWhc",
        "colab_type": "code",
        "colab": {}
      },
      "source": [
        "# Tensorflow setup\n",
        "default_keras_session = tf.keras.backend.get_session()"
      ],
      "execution_count": 0,
      "outputs": []
    },
    {
      "cell_type": "code",
      "metadata": {
        "id": "hnmReq6XDrbD",
        "colab_type": "code",
        "colab": {
          "base_uri": "https://localhost:8080/",
          "height": 89
        },
        "outputId": "d0371a1b-0747-452c-a713-aa175f4de657"
      },
      "source": [
        "if use_gpu:\n",
        "  tf_config = utils.get_default_tensorflow_config(tf_device=\"gpu\", gpu_id=0)\n",
        "\n",
        "else:\n",
        "  tf_config = utils.get_default_tensorflow_config(tf_device=\"cpu\")\n",
        "\n",
        "print(\"*** Training from defined parameters for {} ***\".format(expt_name))"
      ],
      "execution_count": 15,
      "outputs": [
        {
          "output_type": "stream",
          "text": [
            "Selecting GPU ID=0\n",
            "WARNING:tensorflow:From /Gdrive/My Drive/TFT/tft/libs/utils.py:153: The name tf.ConfigProto is deprecated. Please use tf.compat.v1.ConfigProto instead.\n",
            "\n",
            "*** Training from defined parameters for volatility ***\n"
          ],
          "name": "stdout"
        }
      ]
    },
    {
      "cell_type": "code",
      "metadata": {
        "id": "9fJq9WX7h3g9",
        "colab_type": "code",
        "colab": {
          "base_uri": "https://localhost:8080/",
          "height": 179
        },
        "outputId": "06501367-19e1-4662-bb64-d1511102e9b7"
      },
      "source": [
        "!pip install ipython-autotime\n",
        "\n",
        "%load_ext autotime"
      ],
      "execution_count": 16,
      "outputs": [
        {
          "output_type": "stream",
          "text": [
            "Collecting ipython-autotime\n",
            "  Downloading https://files.pythonhosted.org/packages/e6/f9/0626bbdb322e3a078d968e87e3b01341e7890544de891d0cb613641220e6/ipython-autotime-0.1.tar.bz2\n",
            "Building wheels for collected packages: ipython-autotime\n",
            "  Building wheel for ipython-autotime (setup.py) ... \u001b[?25l\u001b[?25hdone\n",
            "  Created wheel for ipython-autotime: filename=ipython_autotime-0.1-cp36-none-any.whl size=1832 sha256=06abfcadaf5d4c8b9fa6faf15c01b348b4ca9aa2810be16cf69e7bb5545a150a\n",
            "  Stored in directory: /root/.cache/pip/wheels/d2/df/81/2db1e54bc91002cec40334629bc39cfa86dff540b304ebcd6e\n",
            "Successfully built ipython-autotime\n",
            "Installing collected packages: ipython-autotime\n",
            "Successfully installed ipython-autotime-0.1\n"
          ],
          "name": "stdout"
        }
      ]
    },
    {
      "cell_type": "code",
      "metadata": {
        "id": "LSBD3lIcDupO",
        "colab_type": "code",
        "colab": {
          "base_uri": "https://localhost:8080/",
          "height": 89
        },
        "outputId": "83d9af43-fc9a-4e04-a86a-1d3938dbce3f"
      },
      "source": [
        "print(\"Loading & splitting data...\")\n",
        "raw_data = pd.read_csv(data_csv_path, index_col=0)\n",
        "train, valid, test = data_formatter.split_data(raw_data)\n",
        "train_samples, valid_samples = data_formatter.get_num_samples_for_calibration(\n",
        ")"
      ],
      "execution_count": 17,
      "outputs": [
        {
          "output_type": "stream",
          "text": [
            "Loading & splitting data...\n",
            "Formatting train-valid-test splits.\n",
            "Setting scalers with training data...\n",
            "time: 1.29 s\n"
          ],
          "name": "stdout"
        }
      ]
    },
    {
      "cell_type": "code",
      "metadata": {
        "id": "eyqTAyzvEPKK",
        "colab_type": "code",
        "colab": {
          "base_uri": "https://localhost:8080/",
          "height": 35
        },
        "outputId": "5bf4d9d6-1d14-48e8-cb15-be841569e200"
      },
      "source": [
        "# Sets up default params\n",
        "fixed_params = data_formatter.get_experiment_params()\n",
        "params = data_formatter.get_default_model_params()\n",
        "params[\"model_folder\"] = model_folder"
      ],
      "execution_count": 18,
      "outputs": [
        {
          "output_type": "stream",
          "text": [
            "time: 2.72 ms\n"
          ],
          "name": "stdout"
        }
      ]
    },
    {
      "cell_type": "code",
      "metadata": {
        "id": "SpaKzLKSER0Q",
        "colab_type": "code",
        "colab": {
          "base_uri": "https://localhost:8080/",
          "height": 53
        },
        "outputId": "5ce4b75b-5cf8-47e5-9e85-f9cb5a5f5532"
      },
      "source": [
        "# Sets up hyperparam manager\n",
        "print(\"*** Loading hyperparm manager ***\")\n",
        "opt_manager = HyperparamOptManager({k: [params[k]] for k in params},\n",
        "                                    fixed_params, model_folder)"
      ],
      "execution_count": 19,
      "outputs": [
        {
          "output_type": "stream",
          "text": [
            "*** Loading hyperparm manager ***\n",
            "time: 11.9 ms\n"
          ],
          "name": "stdout"
        }
      ]
    },
    {
      "cell_type": "code",
      "metadata": {
        "id": "Hi6MhjZgEWJx",
        "colab_type": "code",
        "colab": {
          "base_uri": "https://localhost:8080/",
          "height": 215
        },
        "outputId": "f42948c4-492a-4ab4-a5dd-4f48727c8b84"
      },
      "source": [
        "# Training -- one iteration only\n",
        "print(\"*** Running calibration ***\")\n",
        "print(\"Params Selected:\")\n",
        "for k in params:\n",
        "  print(\"{}: {}\".format(k, params[k]))"
      ],
      "execution_count": 20,
      "outputs": [
        {
          "output_type": "stream",
          "text": [
            "*** Running calibration ***\n",
            "Params Selected:\n",
            "dropout_rate: 0.3\n",
            "hidden_layer_size: 160\n",
            "learning_rate: 0.01\n",
            "minibatch_size: 64\n",
            "max_gradient_norm: 0.01\n",
            "num_heads: 1\n",
            "stack_size: 1\n",
            "model_folder: volatility_test/saved_models/volatility/fixed\n",
            "time: 2.98 ms\n"
          ],
          "name": "stdout"
        }
      ]
    },
    {
      "cell_type": "code",
      "metadata": {
        "id": "LSQcTBsUyqVR",
        "colab_type": "code",
        "colab": {
          "base_uri": "https://localhost:8080/",
          "height": 35
        },
        "outputId": "24a9a6a2-f863-40c6-cd68-51c3a9c3ad15"
      },
      "source": [
        "params = opt_manager.get_next_parameters()"
      ],
      "execution_count": 21,
      "outputs": [
        {
          "output_type": "stream",
          "text": [
            "time: 1.71 ms\n"
          ],
          "name": "stdout"
        }
      ]
    },
    {
      "cell_type": "markdown",
      "metadata": {
        "id": "5GgSarbS-_5S",
        "colab_type": "text"
      },
      "source": [
        "Next, we train a TFT model by subsampling the data in the training and validation sets."
      ]
    },
    {
      "cell_type": "code",
      "metadata": {
        "id": "ef7yKO3OxOV8",
        "colab_type": "code",
        "colab": {
          "base_uri": "https://localhost:8080/",
          "height": 1000
        },
        "outputId": "a1a1d49a-15e0-4cef-8733-26600030847d"
      },
      "source": [
        "tf.reset_default_graph()\n",
        "with tf.Graph().as_default(), tf.Session(config=tf_config) as sess:\n",
        "\n",
        "    tf.keras.backend.set_session(sess)\n",
        "    \n",
        "    # Create a TFT model\n",
        "    model = ModelClass(params, use_cudnn=True) # Run model on GPU using CuDNNLSTM cells\n",
        "\n",
        "    # Sample data into minibatches for training\n",
        "    if not model.training_data_cached():\n",
        "        model.cache_batched_data(train, \"train\", num_samples=450000)\n",
        "        model.cache_batched_data(valid, \"valid\", num_samples=50000)\n",
        "\n",
        "    # Train and save model\n",
        "    model.fit()\n",
        "    model.save(model_folder)"
      ],
      "execution_count": 0,
      "outputs": [
        {
          "output_type": "stream",
          "text": [
            "Resetting temp folder...\n",
            "*** TemporalFusionTransformer params ***\n",
            "# dropout_rate = 0.3\n",
            "# hidden_layer_size = 160\n",
            "# learning_rate = 0.01\n",
            "# max_gradient_norm = 0.01\n",
            "# minibatch_size = 64\n",
            "# model_folder = volatility_test/saved_models/volatility/fixed\n",
            "# num_heads = 1\n",
            "# stack_size = 1\n",
            "# total_time_steps = 257\n",
            "# num_encoder_steps = 252\n",
            "# num_epochs = 100\n",
            "# early_stopping_patience = 5\n",
            "# multiprocessing_workers = 5\n",
            "# column_definition = [('Symbol', <DataTypes.CATEGORICAL: 1>, <InputTypes.ID: 4>), ('date', <DataTypes.DATE: 2>, <InputTypes.TIME: 5>), ('log_vol', <DataTypes.REAL_VALUED: 0>, <InputTypes.TARGET: 0>), ('open_to_close', <DataTypes.REAL_VALUED: 0>, <InputTypes.OBSERVED_INPUT: 1>), ('days_from_start', <DataTypes.REAL_VALUED: 0>, <InputTypes.KNOWN_INPUT: 2>), ('day_of_week', <DataTypes.CATEGORICAL: 1>, <InputTypes.KNOWN_INPUT: 2>), ('day_of_month', <DataTypes.CATEGORICAL: 1>, <InputTypes.KNOWN_INPUT: 2>), ('week_of_year', <DataTypes.CATEGORICAL: 1>, <InputTypes.KNOWN_INPUT: 2>), ('month', <DataTypes.CATEGORICAL: 1>, <InputTypes.KNOWN_INPUT: 2>), ('Region', <DataTypes.CATEGORICAL: 1>, <InputTypes.STATIC_INPUT: 3>)]\n",
            "# input_size = 8\n",
            "# output_size = 1\n",
            "# category_counts = [7, 31, 53, 12, 4]\n",
            "# input_obs_loc = [0]\n",
            "# static_input_loc = [7]\n",
            "# known_regular_inputs = [2]\n",
            "# known_categorical_inputs = [0, 1, 2, 3, 4]\n",
            "WARNING:tensorflow:From /Gdrive/My Drive/TFT/tft/libs/tft_model.py:1039: The name tf.variable_scope is deprecated. Please use tf.compat.v1.variable_scope instead.\n",
            "\n",
            "WARNING:tensorflow:From /tensorflow-1.15.2/python3.6/tensorflow_core/python/keras/initializers.py:119: calling RandomUniform.__init__ (from tensorflow.python.ops.init_ops) with dtype is deprecated and will be removed in a future version.\n",
            "Instructions for updating:\n",
            "Call initializer instance with the dtype argument instead of passing it to the constructor\n",
            "WARNING:tensorflow:From /tensorflow-1.15.2/python3.6/tensorflow_core/python/ops/resource_variable_ops.py:1630: calling BaseResourceVariable.__init__ (from tensorflow.python.ops.resource_variable_ops) with constraint is deprecated and will be removed in a future version.\n",
            "Instructions for updating:\n",
            "If using Keras pass *_constraint arguments to layers.\n",
            "WARNING:tensorflow:From /Gdrive/My Drive/TFT/tft/libs/tft_model.py:942: The name tf.keras.layers.CuDNNLSTM is deprecated. Please use tf.compat.v1.keras.layers.CuDNNLSTM instead.\n",
            "\n",
            "Model: \"model\"\n",
            "__________________________________________________________________________________________________\n",
            "Layer (type)                    Output Shape         Param #     Connected to                     \n",
            "==================================================================================================\n",
            "input_1 (InputLayer)            [(None, 257, 8)]     0                                            \n",
            "__________________________________________________________________________________________________\n",
            "tf_op_layer_TemporalFusionTrans [(None, 257, 5)]     0           input_1[0][0]                    \n",
            "__________________________________________________________________________________________________\n",
            "tf_op_layer_TemporalFusionTrans [(None, 257)]        0           tf_op_layer_TemporalFusionTransfo\n",
            "__________________________________________________________________________________________________\n",
            "sequential_4 (Sequential)       (None, 257, 160)     640         tf_op_layer_TemporalFusionTransfo\n",
            "__________________________________________________________________________________________________\n",
            "tf_op_layer_TemporalFusionTrans [(None, 160)]        0           sequential_4[1][0]               \n",
            "__________________________________________________________________________________________________\n",
            "tf_op_layer_TemporalFusionTrans [(None, 1, 160)]     0           tf_op_layer_TemporalFusionTransfo\n",
            "__________________________________________________________________________________________________\n",
            "flatten (Flatten)               (None, 160)          0           tf_op_layer_TemporalFusionTransfo\n",
            "__________________________________________________________________________________________________\n",
            "dense_4 (Dense)                 (None, 160)          25760       flatten[0][0]                    \n",
            "__________________________________________________________________________________________________\n",
            "tf_op_layer_TemporalFusionTrans [(None, 1, 160)]     0           tf_op_layer_TemporalFusionTransfo\n",
            "__________________________________________________________________________________________________\n",
            "activation (Activation)         (None, 160)          0           dense_4[0][0]                    \n",
            "__________________________________________________________________________________________________\n",
            "dense_8 (Dense)                 (None, 1, 160)       25760       tf_op_layer_TemporalFusionTransfo\n",
            "__________________________________________________________________________________________________\n",
            "dense_5 (Dense)                 (None, 160)          25760       activation[0][0]                 \n",
            "__________________________________________________________________________________________________\n",
            "activation_2 (Activation)       (None, 1, 160)       0           dense_8[0][0]                    \n",
            "__________________________________________________________________________________________________\n",
            "dropout (Dropout)               (None, 160)          0           dense_5[0][0]                    \n",
            "__________________________________________________________________________________________________\n",
            "dense_9 (Dense)                 (None, 1, 160)       25760       activation_2[0][0]               \n",
            "__________________________________________________________________________________________________\n",
            "dense_6 (Dense)                 (None, 1)            161         dropout[0][0]                    \n",
            "__________________________________________________________________________________________________\n",
            "dense_7 (Dense)                 (None, 1)            161         dropout[0][0]                    \n",
            "__________________________________________________________________________________________________\n",
            "dropout_1 (Dropout)             (None, 1, 160)       0           dense_9[0][0]                    \n",
            "__________________________________________________________________________________________________\n",
            "dense_3 (Dense)                 (None, 1)            161         flatten[0][0]                    \n",
            "__________________________________________________________________________________________________\n",
            "multiply (Multiply)             (None, 1)            0           dense_6[0][0]                    \n",
            "                                                                 dense_7[0][0]                    \n",
            "__________________________________________________________________________________________________\n",
            "dense_10 (Dense)                (None, 1, 160)       25760       dropout_1[0][0]                  \n",
            "__________________________________________________________________________________________________\n",
            "dense_11 (Dense)                (None, 1, 160)       25760       dropout_1[0][0]                  \n",
            "__________________________________________________________________________________________________\n",
            "add (Add)                       (None, 1)            0           dense_3[0][0]                    \n",
            "                                                                 multiply[0][0]                   \n",
            "__________________________________________________________________________________________________\n",
            "multiply_1 (Multiply)           (None, 1, 160)       0           dense_10[0][0]                   \n",
            "                                                                 dense_11[0][0]                   \n",
            "__________________________________________________________________________________________________\n",
            "layer_normalization (LayerNorma (None, 1)            2           add[0][0]                        \n",
            "__________________________________________________________________________________________________\n",
            "add_1 (Add)                     (None, 1, 160)       0           tf_op_layer_TemporalFusionTransfo\n",
            "                                                                 multiply_1[0][0]                 \n",
            "__________________________________________________________________________________________________\n",
            "activation_1 (Activation)       (None, 1)            0           layer_normalization[0][0]        \n",
            "__________________________________________________________________________________________________\n",
            "layer_normalization_1 (LayerNor (None, 1, 160)       320         add_1[0][0]                      \n",
            "__________________________________________________________________________________________________\n",
            "tf_op_layer_TemporalFusionTrans [(None, 1, 1)]       0           activation_1[0][0]               \n",
            "__________________________________________________________________________________________________\n",
            "tf_op_layer_TemporalFusionTrans [(None, 1, 160)]     0           layer_normalization_1[0][0]      \n",
            "__________________________________________________________________________________________________\n",
            "multiply_2 (Multiply)           (None, 1, 160)       0           tf_op_layer_TemporalFusionTransfo\n",
            "                                                                 tf_op_layer_TemporalFusionTransfo\n",
            "__________________________________________________________________________________________________\n",
            "tf_op_layer_TemporalFusionTrans [(None, 160)]        0           multiply_2[0][0]                 \n",
            "__________________________________________________________________________________________________\n",
            "dense_12 (Dense)                (None, 160)          25760       tf_op_layer_TemporalFusionTransfo\n",
            "__________________________________________________________________________________________________\n",
            "activation_3 (Activation)       (None, 160)          0           dense_12[0][0]                   \n",
            "__________________________________________________________________________________________________\n",
            "tf_op_layer_TemporalFusionTrans [(None, 257, 3)]     0           input_1[0][0]                    \n",
            "__________________________________________________________________________________________________\n",
            "dense_13 (Dense)                (None, 160)          25760       activation_3[0][0]               \n",
            "__________________________________________________________________________________________________\n",
            "tf_op_layer_TemporalFusionTrans [(None, 257, 1)]     0           tf_op_layer_TemporalFusionTransfo\n",
            "__________________________________________________________________________________________________\n",
            "tf_op_layer_TemporalFusionTrans [(None, 257, 1)]     0           tf_op_layer_TemporalFusionTransfo\n",
            "__________________________________________________________________________________________________\n",
            "tf_op_layer_TemporalFusionTrans [(None, 257)]        0           tf_op_layer_TemporalFusionTransfo\n",
            "__________________________________________________________________________________________________\n",
            "tf_op_layer_TemporalFusionTrans [(None, 257)]        0           tf_op_layer_TemporalFusionTransfo\n",
            "__________________________________________________________________________________________________\n",
            "tf_op_layer_TemporalFusionTrans [(None, 257)]        0           tf_op_layer_TemporalFusionTransfo\n",
            "__________________________________________________________________________________________________\n",
            "tf_op_layer_TemporalFusionTrans [(None, 257)]        0           tf_op_layer_TemporalFusionTransfo\n",
            "__________________________________________________________________________________________________\n",
            "tf_op_layer_TemporalFusionTrans [(None, 257, 1)]     0           tf_op_layer_TemporalFusionTransfo\n",
            "__________________________________________________________________________________________________\n",
            "dropout_2 (Dropout)             (None, 160)          0           dense_13[0][0]                   \n",
            "__________________________________________________________________________________________________\n",
            "time_distributed_1 (TimeDistrib (None, 257, 160)     320         tf_op_layer_TemporalFusionTransfo\n",
            "__________________________________________________________________________________________________\n",
            "time_distributed_2 (TimeDistrib (None, 257, 160)     320         tf_op_layer_TemporalFusionTransfo\n",
            "__________________________________________________________________________________________________\n",
            "sequential (Sequential)         (None, 257, 160)     1120        tf_op_layer_TemporalFusionTransfo\n",
            "__________________________________________________________________________________________________\n",
            "sequential_1 (Sequential)       (None, 257, 160)     4960        tf_op_layer_TemporalFusionTransfo\n",
            "__________________________________________________________________________________________________\n",
            "sequential_2 (Sequential)       (None, 257, 160)     8480        tf_op_layer_TemporalFusionTransfo\n",
            "__________________________________________________________________________________________________\n",
            "sequential_3 (Sequential)       (None, 257, 160)     1920        tf_op_layer_TemporalFusionTransfo\n",
            "__________________________________________________________________________________________________\n",
            "time_distributed (TimeDistribut (None, 257, 160)     320         tf_op_layer_TemporalFusionTransfo\n",
            "__________________________________________________________________________________________________\n",
            "dense_14 (Dense)                (None, 160)          25760       dropout_2[0][0]                  \n",
            "__________________________________________________________________________________________________\n",
            "dense_15 (Dense)                (None, 160)          25760       dropout_2[0][0]                  \n",
            "__________________________________________________________________________________________________\n",
            "tf_op_layer_TemporalFusionTrans [(None, 257, 160, 1) 0           time_distributed_1[0][0]         \n",
            "__________________________________________________________________________________________________\n",
            "tf_op_layer_TemporalFusionTrans [(None, 257, 160, 5) 0           time_distributed_2[0][0]         \n",
            "                                                                 sequential[1][0]                 \n",
            "                                                                 sequential_1[1][0]               \n",
            "                                                                 sequential_2[1][0]               \n",
            "                                                                 sequential_3[1][0]               \n",
            "__________________________________________________________________________________________________\n",
            "tf_op_layer_TemporalFusionTrans [(None, 257, 160, 1) 0           time_distributed[0][0]           \n",
            "__________________________________________________________________________________________________\n",
            "multiply_3 (Multiply)           (None, 160)          0           dense_14[0][0]                   \n",
            "                                                                 dense_15[0][0]                   \n",
            "__________________________________________________________________________________________________\n",
            "tf_op_layer_TemporalFusionTrans [(None, 252, 160, 1) 0           tf_op_layer_TemporalFusionTransfo\n",
            "__________________________________________________________________________________________________\n",
            "tf_op_layer_TemporalFusionTrans [(None, 252, 160, 5) 0           tf_op_layer_TemporalFusionTransfo\n",
            "__________________________________________________________________________________________________\n",
            "tf_op_layer_TemporalFusionTrans [(None, 252, 160, 1) 0           tf_op_layer_TemporalFusionTransfo\n",
            "__________________________________________________________________________________________________\n",
            "add_2 (Add)                     (None, 160)          0           tf_op_layer_TemporalFusionTransfo\n",
            "                                                                 multiply_3[0][0]                 \n",
            "__________________________________________________________________________________________________\n",
            "tf_op_layer_TemporalFusionTrans [(None, 252, 160, 7) 0           tf_op_layer_TemporalFusionTransfo\n",
            "                                                                 tf_op_layer_TemporalFusionTransfo\n",
            "                                                                 tf_op_layer_TemporalFusionTransfo\n",
            "__________________________________________________________________________________________________\n",
            "layer_normalization_2 (LayerNor (None, 160)          320         add_2[0][0]                      \n",
            "__________________________________________________________________________________________________\n",
            "tf_op_layer_TemporalFusionTrans [(None, 252, 1120)]  0           tf_op_layer_TemporalFusionTransfo\n",
            "__________________________________________________________________________________________________\n",
            "tf_op_layer_TemporalFusionTrans [(None, 1, 160)]     0           layer_normalization_2[0][0]      \n",
            "__________________________________________________________________________________________________\n",
            "tf_op_layer_TemporalFusionTrans [(None, 5, 160, 5)]  0           tf_op_layer_TemporalFusionTransfo\n",
            "__________________________________________________________________________________________________\n",
            "time_distributed_4 (TimeDistrib (None, 252, 160)     179360      tf_op_layer_TemporalFusionTransfo\n",
            "__________________________________________________________________________________________________\n",
            "time_distributed_5 (TimeDistrib (None, 1, 160)       25600       tf_op_layer_TemporalFusionTransfo\n",
            "__________________________________________________________________________________________________\n",
            "tf_op_layer_TemporalFusionTrans [(None, 5, 800)]     0           tf_op_layer_TemporalFusionTransfo\n",
            "__________________________________________________________________________________________________\n",
            "tf_op_layer_TemporalFusionTrans [(None, 1, 160)]     0           layer_normalization_2[0][0]      \n",
            "__________________________________________________________________________________________________\n",
            "tf_op_layer_TemporalFusionTrans [(None, 252, 160)]   0           time_distributed_4[0][0]         \n",
            "                                                                 time_distributed_5[0][0]         \n",
            "__________________________________________________________________________________________________\n",
            "tf_op_layer_TemporalFusionTrans [(None, 252, 160)]   0           tf_op_layer_TemporalFusionTransfo\n",
            "__________________________________________________________________________________________________\n",
            "tf_op_layer_TemporalFusionTrans [(None, 252, 160)]   0           tf_op_layer_TemporalFusionTransfo\n",
            "__________________________________________________________________________________________________\n",
            "tf_op_layer_TemporalFusionTrans [(None, 252, 160)]   0           tf_op_layer_TemporalFusionTransfo\n",
            "__________________________________________________________________________________________________\n",
            "tf_op_layer_TemporalFusionTrans [(None, 252, 160)]   0           tf_op_layer_TemporalFusionTransfo\n",
            "__________________________________________________________________________________________________\n",
            "tf_op_layer_TemporalFusionTrans [(None, 252, 160)]   0           tf_op_layer_TemporalFusionTransfo\n",
            "__________________________________________________________________________________________________\n",
            "tf_op_layer_TemporalFusionTrans [(None, 252, 160)]   0           tf_op_layer_TemporalFusionTransfo\n",
            "__________________________________________________________________________________________________\n",
            "tf_op_layer_TemporalFusionTrans [(None, 252, 160)]   0           tf_op_layer_TemporalFusionTransfo\n",
            "__________________________________________________________________________________________________\n",
            "time_distributed_38 (TimeDistri (None, 5, 160)       128160      tf_op_layer_TemporalFusionTransfo\n",
            "__________________________________________________________________________________________________\n",
            "time_distributed_39 (TimeDistri (None, 1, 160)       25600       tf_op_layer_TemporalFusionTransfo\n",
            "__________________________________________________________________________________________________\n",
            "activation_7 (Activation)       (None, 252, 160)     0           tf_op_layer_TemporalFusionTransfo\n",
            "__________________________________________________________________________________________________\n",
            "time_distributed_9 (TimeDistrib (None, 252, 160)     25760       tf_op_layer_TemporalFusionTransfo\n",
            "__________________________________________________________________________________________________\n",
            "time_distributed_13 (TimeDistri (None, 252, 160)     25760       tf_op_layer_TemporalFusionTransfo\n",
            "__________________________________________________________________________________________________\n",
            "time_distributed_17 (TimeDistri (None, 252, 160)     25760       tf_op_layer_TemporalFusionTransfo\n",
            "__________________________________________________________________________________________________\n",
            "time_distributed_21 (TimeDistri (None, 252, 160)     25760       tf_op_layer_TemporalFusionTransfo\n",
            "__________________________________________________________________________________________________\n",
            "time_distributed_25 (TimeDistri (None, 252, 160)     25760       tf_op_layer_TemporalFusionTransfo\n",
            "__________________________________________________________________________________________________\n",
            "time_distributed_29 (TimeDistri (None, 252, 160)     25760       tf_op_layer_TemporalFusionTransfo\n",
            "__________________________________________________________________________________________________\n",
            "time_distributed_33 (TimeDistri (None, 252, 160)     25760       tf_op_layer_TemporalFusionTransfo\n",
            "__________________________________________________________________________________________________\n",
            "tf_op_layer_TemporalFusionTrans [(None, 5, 160)]     0           time_distributed_38[0][0]        \n",
            "                                                                 time_distributed_39[0][0]        \n",
            "__________________________________________________________________________________________________\n",
            "tf_op_layer_TemporalFusionTrans [(None, 5, 160)]     0           tf_op_layer_TemporalFusionTransfo\n",
            "__________________________________________________________________________________________________\n",
            "tf_op_layer_TemporalFusionTrans [(None, 5, 160)]     0           tf_op_layer_TemporalFusionTransfo\n",
            "__________________________________________________________________________________________________\n",
            "tf_op_layer_TemporalFusionTrans [(None, 5, 160)]     0           tf_op_layer_TemporalFusionTransfo\n",
            "__________________________________________________________________________________________________\n",
            "tf_op_layer_TemporalFusionTrans [(None, 5, 160)]     0           tf_op_layer_TemporalFusionTransfo\n",
            "__________________________________________________________________________________________________\n",
            "tf_op_layer_TemporalFusionTrans [(None, 5, 160)]     0           tf_op_layer_TemporalFusionTransfo\n",
            "__________________________________________________________________________________________________\n",
            "time_distributed_6 (TimeDistrib (None, 252, 160)     25760       activation_7[0][0]               \n",
            "__________________________________________________________________________________________________\n",
            "activation_9 (Activation)       (None, 252, 160)     0           time_distributed_9[0][0]         \n",
            "__________________________________________________________________________________________________\n",
            "activation_10 (Activation)      (None, 252, 160)     0           time_distributed_13[0][0]        \n",
            "__________________________________________________________________________________________________\n",
            "activation_11 (Activation)      (None, 252, 160)     0           time_distributed_17[0][0]        \n",
            "__________________________________________________________________________________________________\n",
            "activation_12 (Activation)      (None, 252, 160)     0           time_distributed_21[0][0]        \n",
            "__________________________________________________________________________________________________\n",
            "activation_13 (Activation)      (None, 252, 160)     0           time_distributed_25[0][0]        \n",
            "__________________________________________________________________________________________________\n",
            "activation_14 (Activation)      (None, 252, 160)     0           time_distributed_29[0][0]        \n",
            "__________________________________________________________________________________________________\n",
            "activation_15 (Activation)      (None, 252, 160)     0           time_distributed_33[0][0]        \n",
            "__________________________________________________________________________________________________\n",
            "activation_16 (Activation)      (None, 5, 160)       0           tf_op_layer_TemporalFusionTransfo\n",
            "__________________________________________________________________________________________________\n",
            "time_distributed_43 (TimeDistri (None, 5, 160)       25760       tf_op_layer_TemporalFusionTransfo\n",
            "__________________________________________________________________________________________________\n",
            "time_distributed_47 (TimeDistri (None, 5, 160)       25760       tf_op_layer_TemporalFusionTransfo\n",
            "__________________________________________________________________________________________________\n",
            "time_distributed_51 (TimeDistri (None, 5, 160)       25760       tf_op_layer_TemporalFusionTransfo\n",
            "__________________________________________________________________________________________________\n",
            "time_distributed_55 (TimeDistri (None, 5, 160)       25760       tf_op_layer_TemporalFusionTransfo\n",
            "__________________________________________________________________________________________________\n",
            "time_distributed_59 (TimeDistri (None, 5, 160)       25760       tf_op_layer_TemporalFusionTransfo\n",
            "__________________________________________________________________________________________________\n",
            "dropout_6 (Dropout)             (None, 252, 160)     0           time_distributed_6[0][0]         \n",
            "__________________________________________________________________________________________________\n",
            "time_distributed_10 (TimeDistri (None, 252, 160)     25760       activation_9[0][0]               \n",
            "__________________________________________________________________________________________________\n",
            "time_distributed_14 (TimeDistri (None, 252, 160)     25760       activation_10[0][0]              \n",
            "__________________________________________________________________________________________________\n",
            "time_distributed_18 (TimeDistri (None, 252, 160)     25760       activation_11[0][0]              \n",
            "__________________________________________________________________________________________________\n",
            "time_distributed_22 (TimeDistri (None, 252, 160)     25760       activation_12[0][0]              \n",
            "__________________________________________________________________________________________________\n",
            "time_distributed_26 (TimeDistri (None, 252, 160)     25760       activation_13[0][0]              \n",
            "__________________________________________________________________________________________________\n",
            "time_distributed_30 (TimeDistri (None, 252, 160)     25760       activation_14[0][0]              \n",
            "__________________________________________________________________________________________________\n",
            "time_distributed_34 (TimeDistri (None, 252, 160)     25760       activation_15[0][0]              \n",
            "__________________________________________________________________________________________________\n",
            "time_distributed_40 (TimeDistri (None, 5, 160)       25760       activation_16[0][0]              \n",
            "__________________________________________________________________________________________________\n",
            "activation_18 (Activation)      (None, 5, 160)       0           time_distributed_43[0][0]        \n",
            "__________________________________________________________________________________________________\n",
            "activation_19 (Activation)      (None, 5, 160)       0           time_distributed_47[0][0]        \n",
            "__________________________________________________________________________________________________\n",
            "activation_20 (Activation)      (None, 5, 160)       0           time_distributed_51[0][0]        \n",
            "__________________________________________________________________________________________________\n",
            "activation_21 (Activation)      (None, 5, 160)       0           time_distributed_55[0][0]        \n",
            "__________________________________________________________________________________________________\n",
            "activation_22 (Activation)      (None, 5, 160)       0           time_distributed_59[0][0]        \n",
            "__________________________________________________________________________________________________\n",
            "time_distributed_7 (TimeDistrib (None, 252, 7)       1127        dropout_6[0][0]                  \n",
            "__________________________________________________________________________________________________\n",
            "time_distributed_8 (TimeDistrib (None, 252, 7)       1127        dropout_6[0][0]                  \n",
            "__________________________________________________________________________________________________\n",
            "dropout_7 (Dropout)             (None, 252, 160)     0           time_distributed_10[0][0]        \n",
            "__________________________________________________________________________________________________\n",
            "dropout_8 (Dropout)             (None, 252, 160)     0           time_distributed_14[0][0]        \n",
            "__________________________________________________________________________________________________\n",
            "dropout_9 (Dropout)             (None, 252, 160)     0           time_distributed_18[0][0]        \n",
            "__________________________________________________________________________________________________\n",
            "dropout_10 (Dropout)            (None, 252, 160)     0           time_distributed_22[0][0]        \n",
            "__________________________________________________________________________________________________\n",
            "dropout_11 (Dropout)            (None, 252, 160)     0           time_distributed_26[0][0]        \n",
            "__________________________________________________________________________________________________\n",
            "dropout_12 (Dropout)            (None, 252, 160)     0           time_distributed_30[0][0]        \n",
            "__________________________________________________________________________________________________\n",
            "dropout_13 (Dropout)            (None, 252, 160)     0           time_distributed_34[0][0]        \n",
            "__________________________________________________________________________________________________\n",
            "dense_20 (Dense)                (None, 160)          25760       tf_op_layer_TemporalFusionTransfo\n",
            "__________________________________________________________________________________________________\n",
            "dense_24 (Dense)                (None, 160)          25760       tf_op_layer_TemporalFusionTransfo\n",
            "__________________________________________________________________________________________________\n",
            "dropout_14 (Dropout)            (None, 5, 160)       0           time_distributed_40[0][0]        \n",
            "__________________________________________________________________________________________________\n",
            "time_distributed_44 (TimeDistri (None, 5, 160)       25760       activation_18[0][0]              \n",
            "__________________________________________________________________________________________________\n",
            "time_distributed_48 (TimeDistri (None, 5, 160)       25760       activation_19[0][0]              \n",
            "__________________________________________________________________________________________________\n",
            "time_distributed_52 (TimeDistri (None, 5, 160)       25760       activation_20[0][0]              \n",
            "__________________________________________________________________________________________________\n",
            "time_distributed_56 (TimeDistri (None, 5, 160)       25760       activation_21[0][0]              \n",
            "__________________________________________________________________________________________________\n",
            "time_distributed_60 (TimeDistri (None, 5, 160)       25760       activation_22[0][0]              \n",
            "__________________________________________________________________________________________________\n",
            "time_distributed_3 (TimeDistrib (None, 252, 7)       7847        tf_op_layer_TemporalFusionTransfo\n",
            "__________________________________________________________________________________________________\n",
            "multiply_7 (Multiply)           (None, 252, 7)       0           time_distributed_7[0][0]         \n",
            "                                                                 time_distributed_8[0][0]         \n",
            "__________________________________________________________________________________________________\n",
            "time_distributed_11 (TimeDistri (None, 252, 160)     25760       dropout_7[0][0]                  \n",
            "__________________________________________________________________________________________________\n",
            "time_distributed_12 (TimeDistri (None, 252, 160)     25760       dropout_7[0][0]                  \n",
            "__________________________________________________________________________________________________\n",
            "time_distributed_15 (TimeDistri (None, 252, 160)     25760       dropout_8[0][0]                  \n",
            "__________________________________________________________________________________________________\n",
            "time_distributed_16 (TimeDistri (None, 252, 160)     25760       dropout_8[0][0]                  \n",
            "__________________________________________________________________________________________________\n",
            "time_distributed_19 (TimeDistri (None, 252, 160)     25760       dropout_9[0][0]                  \n",
            "__________________________________________________________________________________________________\n",
            "time_distributed_20 (TimeDistri (None, 252, 160)     25760       dropout_9[0][0]                  \n",
            "__________________________________________________________________________________________________\n",
            "time_distributed_23 (TimeDistri (None, 252, 160)     25760       dropout_10[0][0]                 \n",
            "__________________________________________________________________________________________________\n",
            "time_distributed_24 (TimeDistri (None, 252, 160)     25760       dropout_10[0][0]                 \n",
            "__________________________________________________________________________________________________\n",
            "time_distributed_27 (TimeDistri (None, 252, 160)     25760       dropout_11[0][0]                 \n",
            "__________________________________________________________________________________________________\n",
            "time_distributed_28 (TimeDistri (None, 252, 160)     25760       dropout_11[0][0]                 \n",
            "__________________________________________________________________________________________________\n",
            "time_distributed_31 (TimeDistri (None, 252, 160)     25760       dropout_12[0][0]                 \n",
            "__________________________________________________________________________________________________\n",
            "time_distributed_32 (TimeDistri (None, 252, 160)     25760       dropout_12[0][0]                 \n",
            "__________________________________________________________________________________________________\n",
            "time_distributed_35 (TimeDistri (None, 252, 160)     25760       dropout_13[0][0]                 \n",
            "__________________________________________________________________________________________________\n",
            "time_distributed_36 (TimeDistri (None, 252, 160)     25760       dropout_13[0][0]                 \n",
            "__________________________________________________________________________________________________\n",
            "activation_5 (Activation)       (None, 160)          0           dense_20[0][0]                   \n",
            "__________________________________________________________________________________________________\n",
            "activation_6 (Activation)       (None, 160)          0           dense_24[0][0]                   \n",
            "__________________________________________________________________________________________________\n",
            "time_distributed_41 (TimeDistri (None, 5, 5)         805         dropout_14[0][0]                 \n",
            "__________________________________________________________________________________________________\n",
            "time_distributed_42 (TimeDistri (None, 5, 5)         805         dropout_14[0][0]                 \n",
            "__________________________________________________________________________________________________\n",
            "dropout_15 (Dropout)            (None, 5, 160)       0           time_distributed_44[0][0]        \n",
            "__________________________________________________________________________________________________\n",
            "dropout_16 (Dropout)            (None, 5, 160)       0           time_distributed_48[0][0]        \n",
            "__________________________________________________________________________________________________\n",
            "dropout_17 (Dropout)            (None, 5, 160)       0           time_distributed_52[0][0]        \n",
            "__________________________________________________________________________________________________\n",
            "dropout_18 (Dropout)            (None, 5, 160)       0           time_distributed_56[0][0]        \n",
            "__________________________________________________________________________________________________\n",
            "dropout_19 (Dropout)            (None, 5, 160)       0           time_distributed_60[0][0]        \n",
            "__________________________________________________________________________________________________\n",
            "add_6 (Add)                     (None, 252, 7)       0           time_distributed_3[0][0]         \n",
            "                                                                 multiply_7[0][0]                 \n",
            "__________________________________________________________________________________________________\n",
            "multiply_8 (Multiply)           (None, 252, 160)     0           time_distributed_11[0][0]        \n",
            "                                                                 time_distributed_12[0][0]        \n",
            "__________________________________________________________________________________________________\n",
            "multiply_9 (Multiply)           (None, 252, 160)     0           time_distributed_15[0][0]        \n",
            "                                                                 time_distributed_16[0][0]        \n",
            "__________________________________________________________________________________________________\n",
            "multiply_10 (Multiply)          (None, 252, 160)     0           time_distributed_19[0][0]        \n",
            "                                                                 time_distributed_20[0][0]        \n",
            "__________________________________________________________________________________________________\n",
            "multiply_11 (Multiply)          (None, 252, 160)     0           time_distributed_23[0][0]        \n",
            "                                                                 time_distributed_24[0][0]        \n",
            "__________________________________________________________________________________________________\n",
            "multiply_12 (Multiply)          (None, 252, 160)     0           time_distributed_27[0][0]        \n",
            "                                                                 time_distributed_28[0][0]        \n",
            "__________________________________________________________________________________________________\n",
            "multiply_13 (Multiply)          (None, 252, 160)     0           time_distributed_31[0][0]        \n",
            "                                                                 time_distributed_32[0][0]        \n",
            "__________________________________________________________________________________________________\n",
            "multiply_14 (Multiply)          (None, 252, 160)     0           time_distributed_35[0][0]        \n",
            "                                                                 time_distributed_36[0][0]        \n",
            "__________________________________________________________________________________________________\n",
            "dense_21 (Dense)                (None, 160)          25760       activation_5[0][0]               \n",
            "__________________________________________________________________________________________________\n",
            "dense_25 (Dense)                (None, 160)          25760       activation_6[0][0]               \n",
            "__________________________________________________________________________________________________\n",
            "time_distributed_37 (TimeDistri (None, 5, 5)         4005        tf_op_layer_TemporalFusionTransfo\n",
            "__________________________________________________________________________________________________\n",
            "multiply_16 (Multiply)          (None, 5, 5)         0           time_distributed_41[0][0]        \n",
            "                                                                 time_distributed_42[0][0]        \n",
            "__________________________________________________________________________________________________\n",
            "time_distributed_45 (TimeDistri (None, 5, 160)       25760       dropout_15[0][0]                 \n",
            "__________________________________________________________________________________________________\n",
            "time_distributed_46 (TimeDistri (None, 5, 160)       25760       dropout_15[0][0]                 \n",
            "__________________________________________________________________________________________________\n",
            "time_distributed_49 (TimeDistri (None, 5, 160)       25760       dropout_16[0][0]                 \n",
            "__________________________________________________________________________________________________\n",
            "time_distributed_50 (TimeDistri (None, 5, 160)       25760       dropout_16[0][0]                 \n",
            "__________________________________________________________________________________________________\n",
            "time_distributed_53 (TimeDistri (None, 5, 160)       25760       dropout_17[0][0]                 \n",
            "__________________________________________________________________________________________________\n",
            "time_distributed_54 (TimeDistri (None, 5, 160)       25760       dropout_17[0][0]                 \n",
            "__________________________________________________________________________________________________\n",
            "time_distributed_57 (TimeDistri (None, 5, 160)       25760       dropout_18[0][0]                 \n",
            "__________________________________________________________________________________________________\n",
            "time_distributed_58 (TimeDistri (None, 5, 160)       25760       dropout_18[0][0]                 \n",
            "__________________________________________________________________________________________________\n",
            "time_distributed_61 (TimeDistri (None, 5, 160)       25760       dropout_19[0][0]                 \n",
            "__________________________________________________________________________________________________\n",
            "time_distributed_62 (TimeDistri (None, 5, 160)       25760       dropout_19[0][0]                 \n",
            "__________________________________________________________________________________________________\n",
            "layer_normalization_6 (LayerNor (None, 252, 7)       14          add_6[0][0]                      \n",
            "__________________________________________________________________________________________________\n",
            "add_7 (Add)                     (None, 252, 160)     0           tf_op_layer_TemporalFusionTransfo\n",
            "                                                                 multiply_8[0][0]                 \n",
            "__________________________________________________________________________________________________\n",
            "add_8 (Add)                     (None, 252, 160)     0           tf_op_layer_TemporalFusionTransfo\n",
            "                                                                 multiply_9[0][0]                 \n",
            "__________________________________________________________________________________________________\n",
            "add_9 (Add)                     (None, 252, 160)     0           tf_op_layer_TemporalFusionTransfo\n",
            "                                                                 multiply_10[0][0]                \n",
            "__________________________________________________________________________________________________\n",
            "add_10 (Add)                    (None, 252, 160)     0           tf_op_layer_TemporalFusionTransfo\n",
            "                                                                 multiply_11[0][0]                \n",
            "__________________________________________________________________________________________________\n",
            "add_11 (Add)                    (None, 252, 160)     0           tf_op_layer_TemporalFusionTransfo\n",
            "                                                                 multiply_12[0][0]                \n",
            "__________________________________________________________________________________________________\n",
            "add_12 (Add)                    (None, 252, 160)     0           tf_op_layer_TemporalFusionTransfo\n",
            "                                                                 multiply_13[0][0]                \n",
            "__________________________________________________________________________________________________\n",
            "add_13 (Add)                    (None, 252, 160)     0           tf_op_layer_TemporalFusionTransfo\n",
            "                                                                 multiply_14[0][0]                \n",
            "__________________________________________________________________________________________________\n",
            "dropout_4 (Dropout)             (None, 160)          0           dense_21[0][0]                   \n",
            "__________________________________________________________________________________________________\n",
            "dropout_5 (Dropout)             (None, 160)          0           dense_25[0][0]                   \n",
            "__________________________________________________________________________________________________\n",
            "add_14 (Add)                    (None, 5, 5)         0           time_distributed_37[0][0]        \n",
            "                                                                 multiply_16[0][0]                \n",
            "__________________________________________________________________________________________________\n",
            "multiply_17 (Multiply)          (None, 5, 160)       0           time_distributed_45[0][0]        \n",
            "                                                                 time_distributed_46[0][0]        \n",
            "__________________________________________________________________________________________________\n",
            "multiply_18 (Multiply)          (None, 5, 160)       0           time_distributed_49[0][0]        \n",
            "                                                                 time_distributed_50[0][0]        \n",
            "__________________________________________________________________________________________________\n",
            "multiply_19 (Multiply)          (None, 5, 160)       0           time_distributed_53[0][0]        \n",
            "                                                                 time_distributed_54[0][0]        \n",
            "__________________________________________________________________________________________________\n",
            "multiply_20 (Multiply)          (None, 5, 160)       0           time_distributed_57[0][0]        \n",
            "                                                                 time_distributed_58[0][0]        \n",
            "__________________________________________________________________________________________________\n",
            "multiply_21 (Multiply)          (None, 5, 160)       0           time_distributed_61[0][0]        \n",
            "                                                                 time_distributed_62[0][0]        \n",
            "__________________________________________________________________________________________________\n",
            "activation_8 (Activation)       (None, 252, 7)       0           layer_normalization_6[0][0]      \n",
            "__________________________________________________________________________________________________\n",
            "layer_normalization_7 (LayerNor (None, 252, 160)     320         add_7[0][0]                      \n",
            "__________________________________________________________________________________________________\n",
            "layer_normalization_8 (LayerNor (None, 252, 160)     320         add_8[0][0]                      \n",
            "__________________________________________________________________________________________________\n",
            "layer_normalization_9 (LayerNor (None, 252, 160)     320         add_9[0][0]                      \n",
            "__________________________________________________________________________________________________\n",
            "layer_normalization_10 (LayerNo (None, 252, 160)     320         add_10[0][0]                     \n",
            "__________________________________________________________________________________________________\n",
            "layer_normalization_11 (LayerNo (None, 252, 160)     320         add_11[0][0]                     \n",
            "__________________________________________________________________________________________________\n",
            "layer_normalization_12 (LayerNo (None, 252, 160)     320         add_12[0][0]                     \n",
            "__________________________________________________________________________________________________\n",
            "layer_normalization_13 (LayerNo (None, 252, 160)     320         add_13[0][0]                     \n",
            "__________________________________________________________________________________________________\n",
            "dense_22 (Dense)                (None, 160)          25760       dropout_4[0][0]                  \n",
            "__________________________________________________________________________________________________\n",
            "dense_23 (Dense)                (None, 160)          25760       dropout_4[0][0]                  \n",
            "__________________________________________________________________________________________________\n",
            "dense_26 (Dense)                (None, 160)          25760       dropout_5[0][0]                  \n",
            "__________________________________________________________________________________________________\n",
            "dense_27 (Dense)                (None, 160)          25760       dropout_5[0][0]                  \n",
            "__________________________________________________________________________________________________\n",
            "layer_normalization_14 (LayerNo (None, 5, 5)         10          add_14[0][0]                     \n",
            "__________________________________________________________________________________________________\n",
            "add_15 (Add)                    (None, 5, 160)       0           tf_op_layer_TemporalFusionTransfo\n",
            "                                                                 multiply_17[0][0]                \n",
            "__________________________________________________________________________________________________\n",
            "add_16 (Add)                    (None, 5, 160)       0           tf_op_layer_TemporalFusionTransfo\n",
            "                                                                 multiply_18[0][0]                \n",
            "__________________________________________________________________________________________________\n",
            "add_17 (Add)                    (None, 5, 160)       0           tf_op_layer_TemporalFusionTransfo\n",
            "                                                                 multiply_19[0][0]                \n",
            "__________________________________________________________________________________________________\n",
            "add_18 (Add)                    (None, 5, 160)       0           tf_op_layer_TemporalFusionTransfo\n",
            "                                                                 multiply_20[0][0]                \n",
            "__________________________________________________________________________________________________\n",
            "add_19 (Add)                    (None, 5, 160)       0           tf_op_layer_TemporalFusionTransfo\n",
            "                                                                 multiply_21[0][0]                \n",
            "__________________________________________________________________________________________________\n",
            "tf_op_layer_TemporalFusionTrans [(None, 252, 1, 7)]  0           activation_8[0][0]               \n",
            "__________________________________________________________________________________________________\n",
            "tf_op_layer_TemporalFusionTrans [(None, 252, 160, 7) 0           layer_normalization_7[0][0]      \n",
            "                                                                 layer_normalization_8[0][0]      \n",
            "                                                                 layer_normalization_9[0][0]      \n",
            "                                                                 layer_normalization_10[0][0]     \n",
            "                                                                 layer_normalization_11[0][0]     \n",
            "                                                                 layer_normalization_12[0][0]     \n",
            "                                                                 layer_normalization_13[0][0]     \n",
            "__________________________________________________________________________________________________\n",
            "multiply_5 (Multiply)           (None, 160)          0           dense_22[0][0]                   \n",
            "                                                                 dense_23[0][0]                   \n",
            "__________________________________________________________________________________________________\n",
            "multiply_6 (Multiply)           (None, 160)          0           dense_26[0][0]                   \n",
            "                                                                 dense_27[0][0]                   \n",
            "__________________________________________________________________________________________________\n",
            "activation_17 (Activation)      (None, 5, 5)         0           layer_normalization_14[0][0]     \n",
            "__________________________________________________________________________________________________\n",
            "layer_normalization_15 (LayerNo (None, 5, 160)       320         add_15[0][0]                     \n",
            "__________________________________________________________________________________________________\n",
            "layer_normalization_16 (LayerNo (None, 5, 160)       320         add_16[0][0]                     \n",
            "__________________________________________________________________________________________________\n",
            "layer_normalization_17 (LayerNo (None, 5, 160)       320         add_17[0][0]                     \n",
            "__________________________________________________________________________________________________\n",
            "layer_normalization_18 (LayerNo (None, 5, 160)       320         add_18[0][0]                     \n",
            "__________________________________________________________________________________________________\n",
            "layer_normalization_19 (LayerNo (None, 5, 160)       320         add_19[0][0]                     \n",
            "__________________________________________________________________________________________________\n",
            "multiply_15 (Multiply)          (None, 252, 160, 7)  0           tf_op_layer_TemporalFusionTransfo\n",
            "                                                                 tf_op_layer_TemporalFusionTransfo\n",
            "__________________________________________________________________________________________________\n",
            "add_4 (Add)                     (None, 160)          0           tf_op_layer_TemporalFusionTransfo\n",
            "                                                                 multiply_5[0][0]                 \n",
            "__________________________________________________________________________________________________\n",
            "add_5 (Add)                     (None, 160)          0           tf_op_layer_TemporalFusionTransfo\n",
            "                                                                 multiply_6[0][0]                 \n",
            "__________________________________________________________________________________________________\n",
            "tf_op_layer_TemporalFusionTrans [(None, 5, 1, 5)]    0           activation_17[0][0]              \n",
            "__________________________________________________________________________________________________\n",
            "tf_op_layer_TemporalFusionTrans [(None, 5, 160, 5)]  0           layer_normalization_15[0][0]     \n",
            "                                                                 layer_normalization_16[0][0]     \n",
            "                                                                 layer_normalization_17[0][0]     \n",
            "                                                                 layer_normalization_18[0][0]     \n",
            "                                                                 layer_normalization_19[0][0]     \n",
            "__________________________________________________________________________________________________\n",
            "tf_op_layer_TemporalFusionTrans [(None, 252, 160)]   0           multiply_15[0][0]                \n",
            "__________________________________________________________________________________________________\n",
            "layer_normalization_4 (LayerNor (None, 160)          320         add_4[0][0]                      \n",
            "__________________________________________________________________________________________________\n",
            "layer_normalization_5 (LayerNor (None, 160)          320         add_5[0][0]                      \n",
            "__________________________________________________________________________________________________\n",
            "multiply_22 (Multiply)          (None, 5, 160, 5)    0           tf_op_layer_TemporalFusionTransfo\n",
            "                                                                 tf_op_layer_TemporalFusionTransfo\n",
            "__________________________________________________________________________________________________\n",
            "dense_16 (Dense)                (None, 160)          25760       tf_op_layer_TemporalFusionTransfo\n",
            "__________________________________________________________________________________________________\n",
            "cu_dnnlstm (CuDNNLSTM)          [(None, 252, 160), ( 206080      tf_op_layer_TemporalFusionTransfo\n",
            "                                                                 layer_normalization_4[0][0]      \n",
            "                                                                 layer_normalization_5[0][0]      \n",
            "__________________________________________________________________________________________________\n",
            "tf_op_layer_TemporalFusionTrans [(None, 5, 160)]     0           multiply_22[0][0]                \n",
            "__________________________________________________________________________________________________\n",
            "activation_4 (Activation)       (None, 160)          0           dense_16[0][0]                   \n",
            "__________________________________________________________________________________________________\n",
            "cu_dnnlstm_1 (CuDNNLSTM)        (None, 5, 160)       206080      tf_op_layer_TemporalFusionTransfo\n",
            "                                                                 cu_dnnlstm[0][1]                 \n",
            "                                                                 cu_dnnlstm[0][2]                 \n",
            "__________________________________________________________________________________________________\n",
            "dense_17 (Dense)                (None, 160)          25760       activation_4[0][0]               \n",
            "__________________________________________________________________________________________________\n",
            "tf_op_layer_TemporalFusionTrans [(None, 257, 160)]   0           cu_dnnlstm[0][0]                 \n",
            "                                                                 cu_dnnlstm_1[0][0]               \n",
            "__________________________________________________________________________________________________\n",
            "dropout_3 (Dropout)             (None, 160)          0           dense_17[0][0]                   \n",
            "__________________________________________________________________________________________________\n",
            "dropout_20 (Dropout)            (None, 257, 160)     0           tf_op_layer_TemporalFusionTransfo\n",
            "__________________________________________________________________________________________________\n",
            "dense_18 (Dense)                (None, 160)          25760       dropout_3[0][0]                  \n",
            "__________________________________________________________________________________________________\n",
            "dense_19 (Dense)                (None, 160)          25760       dropout_3[0][0]                  \n",
            "__________________________________________________________________________________________________\n",
            "time_distributed_63 (TimeDistri (None, 257, 160)     25760       dropout_20[0][0]                 \n",
            "__________________________________________________________________________________________________\n",
            "time_distributed_64 (TimeDistri (None, 257, 160)     25760       dropout_20[0][0]                 \n",
            "__________________________________________________________________________________________________\n",
            "multiply_4 (Multiply)           (None, 160)          0           dense_18[0][0]                   \n",
            "                                                                 dense_19[0][0]                   \n",
            "__________________________________________________________________________________________________\n",
            "multiply_23 (Multiply)          (None, 257, 160)     0           time_distributed_63[0][0]        \n",
            "                                                                 time_distributed_64[0][0]        \n",
            "__________________________________________________________________________________________________\n",
            "tf_op_layer_TemporalFusionTrans [(None, 257, 160)]   0           tf_op_layer_TemporalFusionTransfo\n",
            "                                                                 tf_op_layer_TemporalFusionTransfo\n",
            "__________________________________________________________________________________________________\n",
            "add_3 (Add)                     (None, 160)          0           tf_op_layer_TemporalFusionTransfo\n",
            "                                                                 multiply_4[0][0]                 \n",
            "__________________________________________________________________________________________________\n",
            "add_20 (Add)                    (None, 257, 160)     0           multiply_23[0][0]                \n",
            "                                                                 tf_op_layer_TemporalFusionTransfo\n",
            "__________________________________________________________________________________________________\n",
            "layer_normalization_3 (LayerNor (None, 160)          320         add_3[0][0]                      \n",
            "__________________________________________________________________________________________________\n",
            "layer_normalization_20 (LayerNo (None, 257, 160)     320         add_20[0][0]                     \n",
            "__________________________________________________________________________________________________\n",
            "tf_op_layer_TemporalFusionTrans [(None, 1, 160)]     0           layer_normalization_3[0][0]      \n",
            "__________________________________________________________________________________________________\n",
            "time_distributed_65 (TimeDistri (None, 257, 160)     25760       layer_normalization_20[0][0]     \n",
            "__________________________________________________________________________________________________\n",
            "time_distributed_66 (TimeDistri (None, 1, 160)       25600       tf_op_layer_TemporalFusionTransfo\n",
            "__________________________________________________________________________________________________\n",
            "tf_op_layer_TemporalFusionTrans [(None, 257, 160)]   0           time_distributed_65[0][0]        \n",
            "                                                                 time_distributed_66[0][0]        \n",
            "__________________________________________________________________________________________________\n",
            "activation_23 (Activation)      (None, 257, 160)     0           tf_op_layer_TemporalFusionTransfo\n",
            "__________________________________________________________________________________________________\n",
            "time_distributed_67 (TimeDistri (None, 257, 160)     25760       activation_23[0][0]              \n",
            "__________________________________________________________________________________________________\n",
            "dropout_21 (Dropout)            (None, 257, 160)     0           time_distributed_67[0][0]        \n",
            "__________________________________________________________________________________________________\n",
            "time_distributed_68 (TimeDistri (None, 257, 160)     25760       dropout_21[0][0]                 \n",
            "__________________________________________________________________________________________________\n",
            "time_distributed_69 (TimeDistri (None, 257, 160)     25760       dropout_21[0][0]                 \n",
            "__________________________________________________________________________________________________\n",
            "multiply_24 (Multiply)          (None, 257, 160)     0           time_distributed_68[0][0]        \n",
            "                                                                 time_distributed_69[0][0]        \n",
            "__________________________________________________________________________________________________\n",
            "add_21 (Add)                    (None, 257, 160)     0           layer_normalization_20[0][0]     \n",
            "                                                                 multiply_24[0][0]                \n",
            "__________________________________________________________________________________________________\n",
            "layer_normalization_21 (LayerNo (None, 257, 160)     320         add_21[0][0]                     \n",
            "__________________________________________________________________________________________________\n",
            "tf_op_layer_TemporalFusionTrans [(3,)]               0           layer_normalization_21[0][0]     \n",
            "__________________________________________________________________________________________________\n",
            "tf_op_layer_TemporalFusionTrans [()]                 0           tf_op_layer_TemporalFusionTransfo\n",
            "__________________________________________________________________________________________________\n",
            "tf_op_layer_TemporalFusionTrans [(3,)]               0           layer_normalization_21[0][0]     \n",
            "__________________________________________________________________________________________________\n",
            "tf_op_layer_TemporalFusionTrans [()]                 0           tf_op_layer_TemporalFusionTransfo\n",
            "                                                                 tf_op_layer_TemporalFusionTransfo\n",
            "__________________________________________________________________________________________________\n",
            "tf_op_layer_TemporalFusionTrans [(1,)]               0           tf_op_layer_TemporalFusionTransfo\n",
            "__________________________________________________________________________________________________\n",
            "tf_op_layer_TemporalFusionTrans [(1,)]               0           tf_op_layer_TemporalFusionTransfo\n",
            "__________________________________________________________________________________________________\n",
            "tf_op_layer_TemporalFusionTrans [(2,)]               0           tf_op_layer_TemporalFusionTransfo\n",
            "                                                                 tf_op_layer_TemporalFusionTransfo\n",
            "__________________________________________________________________________________________________\n",
            "tf_op_layer_TemporalFusionTrans [(None, None)]       0           tf_op_layer_TemporalFusionTransfo\n",
            "__________________________________________________________________________________________________\n",
            "tf_op_layer_TemporalFusionTrans [(None, None, None)] 0           tf_op_layer_TemporalFusionTransfo\n",
            "__________________________________________________________________________________________________\n",
            "dense_96 (Dense)                (None, 257, 160)     25600       layer_normalization_21[0][0]     \n",
            "__________________________________________________________________________________________________\n",
            "dense_97 (Dense)                (None, 257, 160)     25600       layer_normalization_21[0][0]     \n",
            "__________________________________________________________________________________________________\n",
            "tf_op_layer_TemporalFusionTrans [(None, None, None)] 0           tf_op_layer_TemporalFusionTransfo\n",
            "__________________________________________________________________________________________________\n",
            "lambda (Lambda)                 (None, 257, 257)     0           dense_96[0][0]                   \n",
            "                                                                 dense_97[0][0]                   \n",
            "__________________________________________________________________________________________________\n",
            "lambda_1 (Lambda)               (None, None, None)   0           tf_op_layer_TemporalFusionTransfo\n",
            "__________________________________________________________________________________________________\n",
            "add_22 (Add)                    (None, 257, 257)     0           lambda[0][0]                     \n",
            "                                                                 lambda_1[0][0]                   \n",
            "__________________________________________________________________________________________________\n",
            "activation_24 (Activation)      (None, 257, 257)     0           add_22[0][0]                     \n",
            "__________________________________________________________________________________________________\n",
            "dropout_22 (Dropout)            (None, 257, 257)     0           activation_24[0][0]              \n",
            "__________________________________________________________________________________________________\n",
            "dense_95 (Dense)                (None, 257, 160)     25600       layer_normalization_21[0][0]     \n",
            "__________________________________________________________________________________________________\n",
            "lambda_2 (Lambda)               (None, 257, 160)     0           dropout_22[0][0]                 \n",
            "                                                                 dense_95[0][0]                   \n",
            "__________________________________________________________________________________________________\n",
            "dropout_23 (Dropout)            (None, 257, 160)     0           lambda_2[0][0]                   \n",
            "__________________________________________________________________________________________________\n",
            "dense_98 (Dense)                (None, 257, 160)     25600       dropout_23[0][0]                 \n",
            "__________________________________________________________________________________________________\n",
            "dropout_24 (Dropout)            (None, 257, 160)     0           dense_98[0][0]                   \n",
            "__________________________________________________________________________________________________\n",
            "dropout_25 (Dropout)            (None, 257, 160)     0           dropout_24[0][0]                 \n",
            "__________________________________________________________________________________________________\n",
            "time_distributed_70 (TimeDistri (None, 257, 160)     25760       dropout_25[0][0]                 \n",
            "__________________________________________________________________________________________________\n",
            "time_distributed_71 (TimeDistri (None, 257, 160)     25760       dropout_25[0][0]                 \n",
            "__________________________________________________________________________________________________\n",
            "multiply_25 (Multiply)          (None, 257, 160)     0           time_distributed_70[0][0]        \n",
            "                                                                 time_distributed_71[0][0]        \n",
            "__________________________________________________________________________________________________\n",
            "add_23 (Add)                    (None, 257, 160)     0           multiply_25[0][0]                \n",
            "                                                                 layer_normalization_21[0][0]     \n",
            "__________________________________________________________________________________________________\n",
            "layer_normalization_22 (LayerNo (None, 257, 160)     320         add_23[0][0]                     \n",
            "__________________________________________________________________________________________________\n",
            "time_distributed_72 (TimeDistri (None, 257, 160)     25760       layer_normalization_22[0][0]     \n",
            "__________________________________________________________________________________________________\n",
            "activation_25 (Activation)      (None, 257, 160)     0           time_distributed_72[0][0]        \n",
            "__________________________________________________________________________________________________\n",
            "time_distributed_73 (TimeDistri (None, 257, 160)     25760       activation_25[0][0]              \n",
            "__________________________________________________________________________________________________\n",
            "dropout_26 (Dropout)            (None, 257, 160)     0           time_distributed_73[0][0]        \n",
            "__________________________________________________________________________________________________\n",
            "time_distributed_74 (TimeDistri (None, 257, 160)     25760       dropout_26[0][0]                 \n",
            "__________________________________________________________________________________________________\n",
            "time_distributed_75 (TimeDistri (None, 257, 160)     25760       dropout_26[0][0]                 \n",
            "__________________________________________________________________________________________________\n",
            "multiply_26 (Multiply)          (None, 257, 160)     0           time_distributed_74[0][0]        \n",
            "                                                                 time_distributed_75[0][0]        \n",
            "__________________________________________________________________________________________________\n",
            "add_24 (Add)                    (None, 257, 160)     0           layer_normalization_22[0][0]     \n",
            "                                                                 multiply_26[0][0]                \n",
            "__________________________________________________________________________________________________\n",
            "layer_normalization_23 (LayerNo (None, 257, 160)     320         add_24[0][0]                     \n",
            "__________________________________________________________________________________________________\n",
            "time_distributed_76 (TimeDistri (None, 257, 160)     25760       layer_normalization_23[0][0]     \n",
            "__________________________________________________________________________________________________\n",
            "time_distributed_77 (TimeDistri (None, 257, 160)     25760       layer_normalization_23[0][0]     \n",
            "__________________________________________________________________________________________________\n",
            "multiply_27 (Multiply)          (None, 257, 160)     0           time_distributed_76[0][0]        \n",
            "                                                                 time_distributed_77[0][0]        \n",
            "__________________________________________________________________________________________________\n",
            "add_25 (Add)                    (None, 257, 160)     0           multiply_27[0][0]                \n",
            "                                                                 layer_normalization_20[0][0]     \n",
            "__________________________________________________________________________________________________\n",
            "layer_normalization_24 (LayerNo (None, 257, 160)     320         add_25[0][0]                     \n",
            "__________________________________________________________________________________________________\n",
            "tf_op_layer_TemporalFusionTrans [(None, 5, 160)]     0           layer_normalization_24[0][0]     \n",
            "__________________________________________________________________________________________________\n",
            "time_distributed_78 (TimeDistri (None, 5, 3)         483         tf_op_layer_TemporalFusionTransfo\n",
            "==================================================================================================\n",
            "Total params: 3,156,068\n",
            "Trainable params: 3,156,068\n",
            "Non-trainable params: 0\n",
            "__________________________________________________________________________________________________\n",
            "None\n",
            "Getting valid sampling locations.\n",
            "Getting locations for .AEX\n",
            "Getting locations for .AORD\n",
            "Getting locations for .BFX\n",
            "Getting locations for .BSESN\n",
            "Getting locations for .BVLG\n",
            "Getting locations for .BVSP\n",
            "Getting locations for .DJI\n",
            "Getting locations for .FCHI\n",
            "Getting locations for .FTMIB\n",
            "Getting locations for .FTSE\n",
            "Getting locations for .GDAXI\n",
            "Getting locations for .GSPTSE\n",
            "Getting locations for .HSI\n",
            "Getting locations for .IBEX\n",
            "Getting locations for .IXIC\n",
            "Getting locations for .KS11\n",
            "Getting locations for .KSE\n",
            "Getting locations for .MXX\n",
            "Getting locations for .N225\n",
            "Getting locations for .NSEI\n",
            "Getting locations for .OMXC20\n",
            "Getting locations for .OMXHPI\n",
            "Getting locations for .OMXSPI\n",
            "Getting locations for .OSEAX\n",
            "Getting locations for .RUT\n",
            "Getting locations for .SMSI\n",
            "Getting locations for .SPX\n",
            "Getting locations for .SSEC\n",
            "Getting locations for .SSMI\n",
            "Getting locations for .STI\n",
            "Getting locations for .STOXX50E\n",
            "Max samples=450000 exceeds # available segments=101946\n",
            "Cached data \"train\" updated\n",
            "Getting valid sampling locations.\n",
            "Getting locations for .AEX\n",
            "Getting locations for .AORD\n",
            "Getting locations for .BFX\n",
            "Getting locations for .BSESN\n",
            "Getting locations for .BVLG\n",
            "Getting locations for .BVSP\n",
            "Getting locations for .DJI\n",
            "Getting locations for .FCHI\n",
            "Getting locations for .FTMIB\n",
            "Getting locations for .FTSE\n",
            "Getting locations for .GDAXI\n",
            "Getting locations for .GSPTSE\n",
            "Getting locations for .HSI\n",
            "Getting locations for .IBEX\n",
            "Getting locations for .IXIC\n",
            "Getting locations for .KS11\n",
            "Getting locations for .KSE\n",
            "Getting locations for .MXX\n",
            "Getting locations for .N225\n",
            "Getting locations for .NSEI\n",
            "Getting locations for .OMXC20\n",
            "Getting locations for .OMXHPI\n",
            "Getting locations for .OMXSPI\n",
            "Getting locations for .OSEAX\n",
            "Getting locations for .RUT\n",
            "Getting locations for .SMSI\n",
            "Getting locations for .SPX\n",
            "Getting locations for .SSEC\n",
            "Getting locations for .SSMI\n",
            "Getting locations for .STI\n",
            "Getting locations for .STOXX50E\n",
            "Max samples=50000 exceeds # available segments=7635\n",
            "Cached data \"valid\" updated\n",
            "*** Fitting TemporalFusionTransformer ***\n",
            "Getting batched_data\n",
            "Using cached training data\n",
            "Using cached validation data\n",
            "Using keras standard fit\n",
            "WARNING:tensorflow:From /tensorflow-1.15.2/python3.6/tensorflow_core/python/ops/math_grad.py:1424: where (from tensorflow.python.ops.array_ops) is deprecated and will be removed in a future version.\n",
            "Instructions for updating:\n",
            "Use tf.where in 2.0, which has the same broadcast rule as np.where\n",
            "Train on 450000 samples, validate on 50000 samples\n",
            "Epoch 1/100\n"
          ],
          "name": "stdout"
        }
      ]
    },
    {
      "cell_type": "markdown",
      "metadata": {
        "id": "3G5DYRv8-4F0",
        "colab_type": "text"
      },
      "source": [
        "To evaluate model performance, we reload the serialised model and compute P50 and P90 losses."
      ]
    },
    {
      "cell_type": "code",
      "metadata": {
        "id": "Af9YuQLkxOQE",
        "colab_type": "code",
        "colab": {}
      },
      "source": [
        "tf.reset_default_graph()\n",
        "with tf.Graph().as_default(), tf.Session(config=tf_config) as sess:\n",
        "\n",
        "    tf.keras.backend.set_session(sess)\n",
        "    \n",
        "    # Create a new model & load weights\n",
        "    model = ModelClass(params, use_cudnn=True)\n",
        "    model.load(model_folder)\n",
        "    \n",
        "    # Make forecasts\n",
        "    output_map = model.predict(test, return_targets=True)\n",
        "\n",
        "    targets = data_formatter.format_predictions(output_map[\"targets\"])\n",
        "\n",
        "    # Format predictions\n",
        "    p50_forecast = data_formatter.format_predictions(output_map[\"p50\"])\n",
        "    p90_forecast = data_formatter.format_predictions(output_map[\"p90\"])\n",
        "\n",
        "    def extract_numerical_data(data):\n",
        "        \"\"\"Strips out forecast time and identifier columns.\"\"\"\n",
        "        return data[[\n",
        "          col for col in data.columns\n",
        "          if col not in {\"forecast_time\", \"identifier\"}\n",
        "        ]]\n",
        "\n",
        "    # Compute Losses\n",
        "    p50_loss = utils.numpy_normalised_quantile_loss(\n",
        "        extract_numerical_data(targets), extract_numerical_data(p50_forecast),\n",
        "        0.5)\n",
        "    p90_loss = utils.numpy_normalised_quantile_loss(\n",
        "        extract_numerical_data(targets), extract_numerical_data(p90_forecast),\n",
        "        0.9)"
      ],
      "execution_count": 0,
      "outputs": []
    },
    {
      "cell_type": "code",
      "metadata": {
        "id": "1rWuh9RjilD_",
        "colab_type": "code",
        "colab": {}
      },
      "source": [
        "print(\"Normalised quantile losses: P50={}, P90={}\".format(p50_loss.mean(), p90_loss.mean()))"
      ],
      "execution_count": 0,
      "outputs": []
    },
    {
      "cell_type": "markdown",
      "metadata": {
        "id": "lwCE4Fzk-f-d",
        "colab_type": "text"
      },
      "source": [
        "## Interpretability Use Cases\n",
        "The relationships learnt by the TFT can also be studied using the trained model, through:\n",
        "\n",
        "1. Analyzing the variable selection weights to identify significant features for the prediction problem.\n",
        "2. Visualizing distributions of self-attention weights to determine the presence of any persistent temporal relationships.\n",
        "\n",
        "In the remainder of this section, we demonstrate two interpretability use cases to showcase the above.\n",
        "\n",
        "### Generate Weights for Interpretability\n",
        "First, we generate all necessary variable selection and attention weights required for analysis."
      ]
    },
    {
      "cell_type": "code",
      "metadata": {
        "id": "p1BekVSnilBB",
        "colab_type": "code",
        "colab": {}
      },
      "source": [
        "# Store outputs in maps\n",
        "counts = 0\n",
        "interpretability_weights = {k: None for k in ['decoder_self_attn', \n",
        "                                              'static_flags', 'historical_flags', 'future_flags']}\n",
        "\n",
        "tf.reset_default_graph()\n",
        "with tf.Graph().as_default(), tf.Session(config=tf_config) as sess:\n",
        "\n",
        "    tf.keras.backend.set_session(sess)\n",
        "    \n",
        "    # Create a new model & load weights\n",
        "    model = ModelClass(params, \n",
        "                                    use_cudnn=True)\n",
        "    model.load(model_folder)\n",
        "    for identifier, sliced in test.groupby('id'):\n",
        "        \n",
        "        print(\"Getting attention weights for {}\".format(identifier))\n",
        "        weights = model.get_attention(sliced)\n",
        "        \n",
        "        for k in interpretability_weights:\n",
        "            w = weights[k]\n",
        "            \n",
        "            # Average attentin across heads if necessary\n",
        "            if k == 'decoder_self_attn':\n",
        "                w = w.mean(axis=0)\n",
        "            \n",
        "                # Store a single matrix for weights to reduce memory footprint\n",
        "                batch_size, _, _ = w.shape                 \n",
        "                counts += batch_size\n",
        "            \n",
        "            if interpretability_weights[k] is None:\n",
        "                interpretability_weights[k] = w.sum(axis=0)\n",
        "            else:\n",
        "                interpretability_weights[k] += w.sum(axis=0)\n",
        "\n",
        "interpretability_weight = {k: interpretability_weights[k]/counts for k in interpretability_weights}\n",
        "\n",
        "print('Done.')"
      ],
      "execution_count": 0,
      "outputs": []
    },
    {
      "cell_type": "code",
      "metadata": {
        "id": "lEZQ_lqdik9j",
        "colab_type": "code",
        "colab": {}
      },
      "source": [
        ""
      ],
      "execution_count": 0,
      "outputs": []
    },
    {
      "cell_type": "markdown",
      "metadata": {
        "id": "rj2XFC0ilQIZ",
        "colab_type": "text"
      },
      "source": [
        "### Use Case 1: Analyzing Variable Importance \n",
        "\n",
        "Next, we analyze the distribution of variable selection weights on the input layer -- using this to quantify the relative importance of a given feature for the prediction problem in general. This is split into variable importance for static covariates, time-varying historical inputs variables and known future inputs as shown below."
      ]
    },
    {
      "cell_type": "code",
      "metadata": {
        "id": "Ive5gh7wlGz-",
        "colab_type": "code",
        "colab": {}
      },
      "source": [
        "import numpy as np\n",
        "def get_range(static_gate, axis=None):\n",
        "    \"\"\"Returns the mean, 10th, 50th and 90th percentile of variable importance weights.\"\"\"\n",
        "    return {'Mean': static_gate.mean(axis=axis), \n",
        "               '10%': np.quantile(static_gate, 0.1, axis=axis),\n",
        "               '50%': np.quantile(static_gate, 0.5, axis=axis),\n",
        "               '90%': np.quantile(static_gate, 0.9, axis=axis)}"
      ],
      "execution_count": 0,
      "outputs": []
    },
    {
      "cell_type": "markdown",
      "metadata": {
        "id": "YrJS_qSNlTb7",
        "colab_type": "text"
      },
      "source": [
        "#### Static Variable Importance"
      ]
    },
    {
      "cell_type": "code",
      "metadata": {
        "id": "e6qIdonllGxh",
        "colab_type": "code",
        "colab": {}
      },
      "source": [
        "def flatten(x):\n",
        "    static_attn = x\n",
        "    static_attn = static_attn.reshape([-1, static_attn.shape[-1]])\n",
        "    return static_attn\n",
        "\n",
        "static_attn = flatten(interpretability_weights['static_flags'])\n",
        "m = get_range(static_attn, axis=0)\n",
        "pd.DataFrame({k: pd.Series(m[k], index=['ID']) for k in m})"
      ],
      "execution_count": 0,
      "outputs": []
    },
    {
      "cell_type": "markdown",
      "metadata": {
        "id": "RzaaTKE8lY9E",
        "colab_type": "text"
      },
      "source": [
        "#### Temporal Variable Importance -- Past Inputs"
      ]
    },
    {
      "cell_type": "code",
      "metadata": {
        "id": "oha90VbqlGqf",
        "colab_type": "code",
        "colab": {}
      },
      "source": [
        "x = flatten(interpretability_weights['historical_flags'])\n",
        "m = get_range(x, axis=0)\n",
        "pd.DataFrame({k: pd.Series(m[k], index=['Hour of Day', 'Day of Week', 'Time Index', 'Target']) for k in m})"
      ],
      "execution_count": 0,
      "outputs": []
    },
    {
      "cell_type": "markdown",
      "metadata": {
        "id": "qL1gsML3lcvu",
        "colab_type": "text"
      },
      "source": [
        "#### Temporal Variable Importance -- Future Inputs"
      ]
    },
    {
      "cell_type": "code",
      "metadata": {
        "id": "A4NjMQ13lGme",
        "colab_type": "code",
        "colab": {}
      },
      "source": [
        "x = flatten(interpretability_weights['future_flags'])\n",
        "m = get_range(x, axis=0)\n",
        "pd.DataFrame({k: pd.Series(m[k], index=['Hour of Day', 'Day of Week', 'Time Index']) for k in m})"
      ],
      "execution_count": 0,
      "outputs": []
    },
    {
      "cell_type": "markdown",
      "metadata": {
        "id": "qtaf1xHeljhO",
        "colab_type": "text"
      },
      "source": [
        "### Use Case 2: Visualizing Persistent Temporal Patterns\n",
        "Lastly, we analyse the distribution of self-attention weights across various horizons to see if any persistent temporal patterns exist within the dataset. This allows us to identify any seasonal patterns or lagged relationships in the dataset, based on which past time steps are consistently important for predictions at a given horizon. \n",
        "\n",
        "We visualize this using the average attention pattern for various prediction horizons, as shown below:"
      ]
    },
    {
      "cell_type": "markdown",
      "metadata": {
        "id": "fVf3_VLVlmWQ",
        "colab_type": "text"
      },
      "source": [
        "#### Mean Attention Weights for Various Prediction Horizons"
      ]
    },
    {
      "cell_type": "code",
      "metadata": {
        "id": "8mRSUbPXlGkL",
        "colab_type": "code",
        "colab": {}
      },
      "source": [
        "# Plotting libraries & Functions\n",
        "import plotly.offline\n",
        "from plotly.offline import download_plotlyjs, init_notebook_mode, plot\n",
        "import plotly.graph_objs as go\n",
        "import cufflinks as cf\n",
        "from IPython.display import HTML\n",
        "\n",
        "# Loads plotly charts\n",
        "def iplot(fig, s='plot.html'):\n",
        "    filename = os.path.join(output_folder, s)\n",
        "    plotly.offline.plot(fig, filename=filename, auto_open=False)\n",
        "    return HTML(filename)    \n",
        "\n",
        "def plotly_chart(df, title=None, kind='scatter', x_label=None, y_label=None, secondary_y=None, fill=None,\n",
        "                shape=None, subplots=False):\n",
        "    \n",
        "    fig = df.iplot(asFigure=True, title=title, kind=kind, xTitle=x_label, yTitle=y_label, secondary_y=secondary_y,\n",
        "                  fill=fill, subplots=subplots, shape=shape)\n",
        "\n",
        "    return iplot(fig)"
      ],
      "execution_count": 0,
      "outputs": []
    },
    {
      "cell_type": "code",
      "metadata": {
        "id": "OU1sb69SlGiB",
        "colab_type": "code",
        "colab": {}
      },
      "source": [
        "self_attn = interpretability_weights['decoder_self_attn']\n",
        "\n",
        "means = pd.DataFrame({\"horizon={}\".format(k): self_attn[model.num_encoder_steps+k-1, :] \n",
        "                      for k in [1, 5, 10, 15, 20]})\n",
        "means.index -= model.num_encoder_steps\n",
        "\n",
        "plotly_chart(means,\n",
        "             x_label=\"Positiion Index (n)\",\n",
        "             y_label=\"Mean Attention Weight\",\n",
        "             title=\"Average Attention Pattern at Various Prediction Horizons\")"
      ],
      "execution_count": 0,
      "outputs": []
    },
    {
      "cell_type": "code",
      "metadata": {
        "id": "BnbQueJmNgy6",
        "colab_type": "code",
        "colab": {}
      },
      "source": [
        ""
      ],
      "execution_count": 0,
      "outputs": []
    }
  ]
}